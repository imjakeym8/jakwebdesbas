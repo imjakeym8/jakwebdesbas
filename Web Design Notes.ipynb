{
 "cells": [
  {
   "attachments": {},
   "cell_type": "markdown",
   "metadata": {},
   "source": [
    "**How to create a Hamburger Menu in CSS?**\n",
    "\n",
    "Here is an example of how you can create a hamburger menu using CSS:"
   ]
  },
  {
   "cell_type": "code",
   "execution_count": null,
   "metadata": {
    "vscode": {
     "languageId": "html"
    }
   },
   "outputs": [],
   "source": [
    "<div class=\"hamburger-menu\">\n",
    "  <div class=\"bar1\"></div>\n",
    "  <div class=\"bar2\"></div>\n",
    "  <div class=\"bar3\"></div>\n",
    "</div>"
   ]
  },
  {
   "cell_type": "code",
   "execution_count": null,
   "metadata": {
    "vscode": {
     "languageId": "css"
    }
   },
   "outputs": [],
   "source": [
    ".hamburger-menu {\n",
    "  width: 40px;\n",
    "  height: 30px;\n",
    "  display: flex;\n",
    "  flex-direction: column;\n",
    "  justify-content: space-between;\n",
    "  align-items: center;\n",
    "  padding: 10px 0;\n",
    "  cursor: pointer;\n",
    "}\n",
    "\n",
    ".bar1, .bar2, .bar3 {\n",
    "  width: 100%;\n",
    "  height: 4px;\n",
    "  background-color: black;\n",
    "}"
   ]
  },
  {
   "attachments": {},
   "cell_type": "markdown",
   "metadata": {},
   "source": [
    "This example uses a div with the class \"hamburger-menu\" as the container for the three bars that make up the hamburger icon. The divs with the class \"bar1\", \"bar2\", and \"bar3\" are the individual bars that make up the icon. The CSS sets the width and height of each bar, and gives them a black background color.\n",
    "\n",
    "You can use javascript to toggle a class on the hamburger menu container to change the display of the icon, for example, to an 'X' icon when the menu is open."
   ]
  },
  {
   "cell_type": "code",
   "execution_count": null,
   "metadata": {
    "vscode": {
     "languageId": "css"
    }
   },
   "outputs": [],
   "source": [
    ".hamburger-menu.open .bar1 {\n",
    "  transform: rotate(45deg) translate(5px, 5px);\n",
    "}\n",
    "\n",
    ".hamburger-menu.open .bar2 {\n",
    "  opacity: 0;\n",
    "}\n",
    "\n",
    ".hamburger-menu.open .bar3 {\n",
    "  transform: rotate(-45deg) translate(7px, -8px);\n",
    "}\n"
   ]
  },
  {
   "cell_type": "code",
   "execution_count": 1,
   "metadata": {
    "vscode": {
     "languageId": "javascript"
    }
   },
   "outputs": [
    {
     "ename": "SyntaxError",
     "evalue": "invalid syntax (2436871197.py, line 1)",
     "output_type": "error",
     "traceback": [
      "\u001b[1;36m  Cell \u001b[1;32mIn[1], line 1\u001b[1;36m\u001b[0m\n\u001b[1;33m    const hamburger = document.querySelector('.hamburger-menu');\u001b[0m\n\u001b[1;37m          ^\u001b[0m\n\u001b[1;31mSyntaxError\u001b[0m\u001b[1;31m:\u001b[0m invalid syntax\n"
     ]
    }
   ],
   "source": [
    "const hamburger = document.querySelector('.hamburger-menu');\n",
    "hamburger.addEventListener('click', () => {\n",
    "  hamburger.classList.toggle('open');\n",
    "});"
   ]
  },
  {
   "attachments": {},
   "cell_type": "markdown",
   "metadata": {},
   "source": [
    "This would toggle the class 'open' on the hamburger menu container when clicked, and use CSS to change the appearance of the icon to an \"X\" shape."
   ]
  }
 ],
 "metadata": {
  "kernelspec": {
   "display_name": "Python 3",
   "language": "python",
   "name": "python3"
  },
  "language_info": {
   "codemirror_mode": {
    "name": "ipython",
    "version": 3
   },
   "file_extension": ".py",
   "mimetype": "text/x-python",
   "name": "python",
   "nbconvert_exporter": "python",
   "pygments_lexer": "ipython3",
   "version": "3.9.2"
  },
  "orig_nbformat": 4,
  "vscode": {
   "interpreter": {
    "hash": "c446eef832ec964573dc49f36fd16bdbed40cbfbefbf557bc2dc78d9e7968689"
   }
  }
 },
 "nbformat": 4,
 "nbformat_minor": 2
}
